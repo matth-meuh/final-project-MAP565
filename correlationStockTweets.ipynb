{
 "cells": [
  {
   "cell_type": "code",
   "execution_count": 58,
   "metadata": {},
   "outputs": [],
   "source": [
    "import numpy as np\n",
    "import pandas as pd\n",
    "import os\n",
    "from matplotlib import pyplot as plt"
   ]
  },
  {
   "cell_type": "code",
   "execution_count": 59,
   "metadata": {},
   "outputs": [
    {
     "data": {
      "text/html": [
       "<div>\n",
       "<style scoped>\n",
       "    .dataframe tbody tr th:only-of-type {\n",
       "        vertical-align: middle;\n",
       "    }\n",
       "\n",
       "    .dataframe tbody tr th {\n",
       "        vertical-align: top;\n",
       "    }\n",
       "\n",
       "    .dataframe thead th {\n",
       "        text-align: right;\n",
       "    }\n",
       "</style>\n",
       "<table border=\"1\" class=\"dataframe\">\n",
       "  <thead>\n",
       "    <tr style=\"text-align: right;\">\n",
       "      <th></th>\n",
       "      <th>tweet_id</th>\n",
       "      <th>ticker_symbol</th>\n",
       "      <th>writer</th>\n",
       "      <th>post_date</th>\n",
       "      <th>body</th>\n",
       "      <th>comment_num</th>\n",
       "      <th>retweet_num</th>\n",
       "      <th>like_num</th>\n",
       "      <th>negative_sentiment</th>\n",
       "    </tr>\n",
       "  </thead>\n",
       "  <tbody>\n",
       "    <tr>\n",
       "      <th>0</th>\n",
       "      <td>551602218307051520</td>\n",
       "      <td>AAPL</td>\n",
       "      <td>CashRocket</td>\n",
       "      <td>1420347191</td>\n",
       "      <td>$AVSPY looking brutal.. $AAPL $SPY</td>\n",
       "      <td>0</td>\n",
       "      <td>0</td>\n",
       "      <td>1</td>\n",
       "      <td>1</td>\n",
       "    </tr>\n",
       "    <tr>\n",
       "      <th>1</th>\n",
       "      <td>552107054807408640</td>\n",
       "      <td>AAPL</td>\n",
       "      <td>MarcusM08</td>\n",
       "      <td>1420467554</td>\n",
       "      <td>What the fuck $AAPL?</td>\n",
       "      <td>0</td>\n",
       "      <td>0</td>\n",
       "      <td>0</td>\n",
       "      <td>1</td>\n",
       "    </tr>\n",
       "    <tr>\n",
       "      <th>4</th>\n",
       "      <td>552455561342906368</td>\n",
       "      <td>AAPL</td>\n",
       "      <td>neodocjdg</td>\n",
       "      <td>1420550644</td>\n",
       "      <td>$AAPL Dead cat died? $SPY</td>\n",
       "      <td>1</td>\n",
       "      <td>0</td>\n",
       "      <td>0</td>\n",
       "      <td>1</td>\n",
       "    </tr>\n",
       "    <tr>\n",
       "      <th>3</th>\n",
       "      <td>552492285724987395</td>\n",
       "      <td>AAPL</td>\n",
       "      <td>shawncj6</td>\n",
       "      <td>1420559400</td>\n",
       "      <td>$AAPL dump</td>\n",
       "      <td>0</td>\n",
       "      <td>0</td>\n",
       "      <td>0</td>\n",
       "      <td>1</td>\n",
       "    </tr>\n",
       "    <tr>\n",
       "      <th>2</th>\n",
       "      <td>552492485617147904</td>\n",
       "      <td>AAPL</td>\n",
       "      <td>RealFanboy101</td>\n",
       "      <td>1420559448</td>\n",
       "      <td>$AAPL pathetic and weak</td>\n",
       "      <td>0</td>\n",
       "      <td>0</td>\n",
       "      <td>0</td>\n",
       "      <td>1</td>\n",
       "    </tr>\n",
       "  </tbody>\n",
       "</table>\n",
       "</div>"
      ],
      "text/plain": [
       "             tweet_id ticker_symbol         writer   post_date  \\\n",
       "0  551602218307051520          AAPL     CashRocket  1420347191   \n",
       "1  552107054807408640          AAPL      MarcusM08  1420467554   \n",
       "4  552455561342906368          AAPL      neodocjdg  1420550644   \n",
       "3  552492285724987395          AAPL       shawncj6  1420559400   \n",
       "2  552492485617147904          AAPL  RealFanboy101  1420559448   \n",
       "\n",
       "                                 body  comment_num  retweet_num  like_num  \\\n",
       "0  $AVSPY looking brutal.. $AAPL $SPY            0            0         1   \n",
       "1                What the fuck $AAPL?            0            0         0   \n",
       "4           $AAPL Dead cat died? $SPY            1            0         0   \n",
       "3                          $AAPL dump            0            0         0   \n",
       "2             $AAPL pathetic and weak            0            0         0   \n",
       "\n",
       "   negative_sentiment  \n",
       "0                   1  \n",
       "1                   1  \n",
       "4                   1  \n",
       "3                   1  \n",
       "2                   1  "
      ]
     },
     "execution_count": 59,
     "metadata": {},
     "output_type": "execute_result"
    }
   ],
   "source": [
    "negativeAppleTweets = pd.read_csv('datasets/techTweets/negativeAppleTweets.csv')\n",
    "negativeAppleTweets.drop(columns=['Unnamed: 0'], inplace=True)\n",
    "negativeAppleTweets = negativeAppleTweets.drop_duplicates(subset='post_date', keep=\"last\")\n",
    "negativeAppleTweets.sort_values('post_date', inplace=True)\n",
    "negativeAppleTweets.head()"
   ]
  },
  {
   "cell_type": "code",
   "execution_count": 60,
   "metadata": {},
   "outputs": [],
   "source": [
    "import datetime\n",
    "negativeAppleTweets['Date'] = pd.to_datetime(negativeAppleTweets['post_date'],unit='s').dt.strftime('%Y-%m-%d')"
   ]
  },
  {
   "cell_type": "code",
   "execution_count": 61,
   "metadata": {},
   "outputs": [
    {
     "data": {
      "text/html": [
       "<div>\n",
       "<style scoped>\n",
       "    .dataframe tbody tr th:only-of-type {\n",
       "        vertical-align: middle;\n",
       "    }\n",
       "\n",
       "    .dataframe tbody tr th {\n",
       "        vertical-align: top;\n",
       "    }\n",
       "\n",
       "    .dataframe thead th {\n",
       "        text-align: right;\n",
       "    }\n",
       "</style>\n",
       "<table border=\"1\" class=\"dataframe\">\n",
       "  <thead>\n",
       "    <tr style=\"text-align: right;\">\n",
       "      <th></th>\n",
       "      <th>index</th>\n",
       "      <th>Date</th>\n",
       "      <th>count</th>\n",
       "    </tr>\n",
       "  </thead>\n",
       "  <tbody>\n",
       "    <tr>\n",
       "      <th>0</th>\n",
       "      <td>2015-01-27</td>\n",
       "      <td>26</td>\n",
       "      <td>26</td>\n",
       "    </tr>\n",
       "    <tr>\n",
       "      <th>1</th>\n",
       "      <td>2015-07-21</td>\n",
       "      <td>20</td>\n",
       "      <td>20</td>\n",
       "    </tr>\n",
       "    <tr>\n",
       "      <th>2</th>\n",
       "      <td>2019-01-03</td>\n",
       "      <td>18</td>\n",
       "      <td>18</td>\n",
       "    </tr>\n",
       "    <tr>\n",
       "      <th>3</th>\n",
       "      <td>2015-07-09</td>\n",
       "      <td>17</td>\n",
       "      <td>17</td>\n",
       "    </tr>\n",
       "    <tr>\n",
       "      <th>4</th>\n",
       "      <td>2019-01-02</td>\n",
       "      <td>16</td>\n",
       "      <td>16</td>\n",
       "    </tr>\n",
       "  </tbody>\n",
       "</table>\n",
       "</div>"
      ],
      "text/plain": [
       "        index  Date  count\n",
       "0  2015-01-27    26     26\n",
       "1  2015-07-21    20     20\n",
       "2  2019-01-03    18     18\n",
       "3  2015-07-09    17     17\n",
       "4  2019-01-02    16     16"
      ]
     },
     "execution_count": 61,
     "metadata": {},
     "output_type": "execute_result"
    }
   ],
   "source": [
    "tweetsOnAppleDateCount= negativeAppleTweets[\"Date\"].value_counts()\n",
    "tweetsOnAppleDateCount = pd.DataFrame(tweetsOnAppleDateCount)\n",
    "tweetsOnAppleDateCount[\"count\"] = tweetsOnAppleDateCount[\"Date\"]\n",
    "tweetsOnAppleDateCount.reset_index(inplace=True)\n",
    "tweetsOnAppleDateCount.head()"
   ]
  },
  {
   "cell_type": "code",
   "execution_count": 62,
   "metadata": {},
   "outputs": [
    {
     "data": {
      "text/html": [
       "<div>\n",
       "<style scoped>\n",
       "    .dataframe tbody tr th:only-of-type {\n",
       "        vertical-align: middle;\n",
       "    }\n",
       "\n",
       "    .dataframe tbody tr th {\n",
       "        vertical-align: top;\n",
       "    }\n",
       "\n",
       "    .dataframe thead th {\n",
       "        text-align: right;\n",
       "    }\n",
       "</style>\n",
       "<table border=\"1\" class=\"dataframe\">\n",
       "  <thead>\n",
       "    <tr style=\"text-align: right;\">\n",
       "      <th></th>\n",
       "      <th>Date</th>\n",
       "      <th>count</th>\n",
       "    </tr>\n",
       "  </thead>\n",
       "  <tbody>\n",
       "    <tr>\n",
       "      <th>823</th>\n",
       "      <td>2015-01-04</td>\n",
       "      <td>1</td>\n",
       "    </tr>\n",
       "    <tr>\n",
       "      <th>856</th>\n",
       "      <td>2015-01-05</td>\n",
       "      <td>1</td>\n",
       "    </tr>\n",
       "    <tr>\n",
       "      <th>162</th>\n",
       "      <td>2015-01-06</td>\n",
       "      <td>3</td>\n",
       "    </tr>\n",
       "    <tr>\n",
       "      <th>316</th>\n",
       "      <td>2015-01-07</td>\n",
       "      <td>2</td>\n",
       "    </tr>\n",
       "    <tr>\n",
       "      <th>156</th>\n",
       "      <td>2015-01-08</td>\n",
       "      <td>3</td>\n",
       "    </tr>\n",
       "  </tbody>\n",
       "</table>\n",
       "</div>"
      ],
      "text/plain": [
       "           Date  count\n",
       "823  2015-01-04      1\n",
       "856  2015-01-05      1\n",
       "162  2015-01-06      3\n",
       "316  2015-01-07      2\n",
       "156  2015-01-08      3"
      ]
     },
     "execution_count": 62,
     "metadata": {},
     "output_type": "execute_result"
    }
   ],
   "source": [
    "tweetsOnAppleDateCount[\"Date\"] = tweetsOnAppleDateCount[\"index\"]\n",
    "tweetsOnAppleDateCount.drop(\"index\",axis=1,inplace=True)\n",
    "tweetsOnAppleDateCount.sort_values('Date', inplace=True)\n",
    "tweetsOnAppleDateCount.head()"
   ]
  },
  {
   "cell_type": "code",
   "execution_count": 63,
   "metadata": {},
   "outputs": [
    {
     "data": {
      "text/plain": [
       "<bound method NDFrame.last of            Date  count\n",
       "823  2015-01-04      1\n",
       "856  2015-01-05      1\n",
       "162  2015-01-06      3\n",
       "316  2015-01-07      2\n",
       "156  2015-01-08      3\n",
       "..          ...    ...\n",
       "141  2019-12-26      4\n",
       "331  2019-12-27      2\n",
       "781  2019-12-29      1\n",
       "768  2019-12-30      1\n",
       "722  2019-12-31      1\n",
       "\n",
       "[890 rows x 2 columns]>"
      ]
     },
     "execution_count": 63,
     "metadata": {},
     "output_type": "execute_result"
    }
   ],
   "source": [
    "tweetsOnAppleDateCount.last"
   ]
  },
  {
   "cell_type": "code",
   "execution_count": 64,
   "metadata": {},
   "outputs": [
    {
     "data": {
      "text/html": [
       "<div>\n",
       "<style scoped>\n",
       "    .dataframe tbody tr th:only-of-type {\n",
       "        vertical-align: middle;\n",
       "    }\n",
       "\n",
       "    .dataframe tbody tr th {\n",
       "        vertical-align: top;\n",
       "    }\n",
       "\n",
       "    .dataframe thead th {\n",
       "        text-align: right;\n",
       "    }\n",
       "</style>\n",
       "<table border=\"1\" class=\"dataframe\">\n",
       "  <thead>\n",
       "    <tr style=\"text-align: right;\">\n",
       "      <th></th>\n",
       "      <th>Date</th>\n",
       "      <th>Open</th>\n",
       "      <th>High</th>\n",
       "      <th>Low</th>\n",
       "      <th>Close</th>\n",
       "      <th>Adj Close</th>\n",
       "      <th>Volume</th>\n",
       "    </tr>\n",
       "  </thead>\n",
       "  <tbody>\n",
       "    <tr>\n",
       "      <th>0</th>\n",
       "      <td>2015-01-05</td>\n",
       "      <td>27.072500</td>\n",
       "      <td>27.162500</td>\n",
       "      <td>26.352501</td>\n",
       "      <td>26.562500</td>\n",
       "      <td>24.018261</td>\n",
       "      <td>257142000</td>\n",
       "    </tr>\n",
       "    <tr>\n",
       "      <th>1</th>\n",
       "      <td>2015-01-06</td>\n",
       "      <td>26.635000</td>\n",
       "      <td>26.857500</td>\n",
       "      <td>26.157499</td>\n",
       "      <td>26.565001</td>\n",
       "      <td>24.020525</td>\n",
       "      <td>263188400</td>\n",
       "    </tr>\n",
       "    <tr>\n",
       "      <th>2</th>\n",
       "      <td>2015-01-07</td>\n",
       "      <td>26.799999</td>\n",
       "      <td>27.049999</td>\n",
       "      <td>26.674999</td>\n",
       "      <td>26.937500</td>\n",
       "      <td>24.357346</td>\n",
       "      <td>160423600</td>\n",
       "    </tr>\n",
       "    <tr>\n",
       "      <th>3</th>\n",
       "      <td>2015-01-08</td>\n",
       "      <td>27.307501</td>\n",
       "      <td>28.037500</td>\n",
       "      <td>27.174999</td>\n",
       "      <td>27.972500</td>\n",
       "      <td>25.293207</td>\n",
       "      <td>237458000</td>\n",
       "    </tr>\n",
       "    <tr>\n",
       "      <th>4</th>\n",
       "      <td>2015-01-09</td>\n",
       "      <td>28.167500</td>\n",
       "      <td>28.312500</td>\n",
       "      <td>27.552500</td>\n",
       "      <td>28.002501</td>\n",
       "      <td>25.320332</td>\n",
       "      <td>214798000</td>\n",
       "    </tr>\n",
       "  </tbody>\n",
       "</table>\n",
       "</div>"
      ],
      "text/plain": [
       "         Date       Open       High        Low      Close  Adj Close  \\\n",
       "0  2015-01-05  27.072500  27.162500  26.352501  26.562500  24.018261   \n",
       "1  2015-01-06  26.635000  26.857500  26.157499  26.565001  24.020525   \n",
       "2  2015-01-07  26.799999  27.049999  26.674999  26.937500  24.357346   \n",
       "3  2015-01-08  27.307501  28.037500  27.174999  27.972500  25.293207   \n",
       "4  2015-01-09  28.167500  28.312500  27.552500  28.002501  25.320332   \n",
       "\n",
       "      Volume  \n",
       "0  257142000  \n",
       "1  263188400  \n",
       "2  160423600  \n",
       "3  237458000  \n",
       "4  214798000  "
      ]
     },
     "execution_count": 64,
     "metadata": {},
     "output_type": "execute_result"
    }
   ],
   "source": [
    "appleDf = pd.read_csv('datasets/AAPL-2.csv')\n",
    "appleDf.head()"
   ]
  },
  {
   "cell_type": "code",
   "execution_count": 65,
   "metadata": {},
   "outputs": [
    {
     "data": {
      "text/html": [
       "<div>\n",
       "<style scoped>\n",
       "    .dataframe tbody tr th:only-of-type {\n",
       "        vertical-align: middle;\n",
       "    }\n",
       "\n",
       "    .dataframe tbody tr th {\n",
       "        vertical-align: top;\n",
       "    }\n",
       "\n",
       "    .dataframe thead th {\n",
       "        text-align: right;\n",
       "    }\n",
       "</style>\n",
       "<table border=\"1\" class=\"dataframe\">\n",
       "  <thead>\n",
       "    <tr style=\"text-align: right;\">\n",
       "      <th></th>\n",
       "      <th>Date</th>\n",
       "      <th>count</th>\n",
       "      <th>Open</th>\n",
       "      <th>High</th>\n",
       "      <th>Low</th>\n",
       "      <th>Close</th>\n",
       "      <th>Adj Close</th>\n",
       "      <th>Volume</th>\n",
       "    </tr>\n",
       "  </thead>\n",
       "  <tbody>\n",
       "    <tr>\n",
       "      <th>0</th>\n",
       "      <td>2015-01-05</td>\n",
       "      <td>1</td>\n",
       "      <td>27.072500</td>\n",
       "      <td>27.162500</td>\n",
       "      <td>26.352501</td>\n",
       "      <td>26.562500</td>\n",
       "      <td>24.018261</td>\n",
       "      <td>257142000</td>\n",
       "    </tr>\n",
       "    <tr>\n",
       "      <th>1</th>\n",
       "      <td>2015-01-06</td>\n",
       "      <td>3</td>\n",
       "      <td>26.635000</td>\n",
       "      <td>26.857500</td>\n",
       "      <td>26.157499</td>\n",
       "      <td>26.565001</td>\n",
       "      <td>24.020525</td>\n",
       "      <td>263188400</td>\n",
       "    </tr>\n",
       "    <tr>\n",
       "      <th>2</th>\n",
       "      <td>2015-01-07</td>\n",
       "      <td>2</td>\n",
       "      <td>26.799999</td>\n",
       "      <td>27.049999</td>\n",
       "      <td>26.674999</td>\n",
       "      <td>26.937500</td>\n",
       "      <td>24.357346</td>\n",
       "      <td>160423600</td>\n",
       "    </tr>\n",
       "    <tr>\n",
       "      <th>3</th>\n",
       "      <td>2015-01-08</td>\n",
       "      <td>3</td>\n",
       "      <td>27.307501</td>\n",
       "      <td>28.037500</td>\n",
       "      <td>27.174999</td>\n",
       "      <td>27.972500</td>\n",
       "      <td>25.293207</td>\n",
       "      <td>237458000</td>\n",
       "    </tr>\n",
       "    <tr>\n",
       "      <th>4</th>\n",
       "      <td>2015-01-09</td>\n",
       "      <td>3</td>\n",
       "      <td>28.167500</td>\n",
       "      <td>28.312500</td>\n",
       "      <td>27.552500</td>\n",
       "      <td>28.002501</td>\n",
       "      <td>25.320332</td>\n",
       "      <td>214798000</td>\n",
       "    </tr>\n",
       "    <tr>\n",
       "      <th>5</th>\n",
       "      <td>2015-01-14</td>\n",
       "      <td>1</td>\n",
       "      <td>27.260000</td>\n",
       "      <td>27.622499</td>\n",
       "      <td>27.125000</td>\n",
       "      <td>27.450001</td>\n",
       "      <td>24.820753</td>\n",
       "      <td>195826400</td>\n",
       "    </tr>\n",
       "  </tbody>\n",
       "</table>\n",
       "</div>"
      ],
      "text/plain": [
       "         Date  count       Open       High        Low      Close  Adj Close  \\\n",
       "0  2015-01-05      1  27.072500  27.162500  26.352501  26.562500  24.018261   \n",
       "1  2015-01-06      3  26.635000  26.857500  26.157499  26.565001  24.020525   \n",
       "2  2015-01-07      2  26.799999  27.049999  26.674999  26.937500  24.357346   \n",
       "3  2015-01-08      3  27.307501  28.037500  27.174999  27.972500  25.293207   \n",
       "4  2015-01-09      3  28.167500  28.312500  27.552500  28.002501  25.320332   \n",
       "5  2015-01-14      1  27.260000  27.622499  27.125000  27.450001  24.820753   \n",
       "\n",
       "      Volume  \n",
       "0  257142000  \n",
       "1  263188400  \n",
       "2  160423600  \n",
       "3  237458000  \n",
       "4  214798000  \n",
       "5  195826400  "
      ]
     },
     "execution_count": 65,
     "metadata": {},
     "output_type": "execute_result"
    }
   ],
   "source": [
    "df = pd.merge(tweetsOnAppleDateCount, appleDf, how='inner', on='Date')\n",
    "df.head(6)"
   ]
  },
  {
   "cell_type": "code",
   "execution_count": 66,
   "metadata": {},
   "outputs": [
    {
     "data": {
      "image/png": "[encoded data removed]",
      "text/plain": [
       "<Figure size 720x432 with 1 Axes>"
      ]
     },
     "metadata": {
      "needs_background": "light"
     },
     "output_type": "display_data"
    }
   ],
   "source": [
    "fig, ax = plt.subplots(figsize=(10,6))\n",
    "\n",
    "openingValues= df[\"Open\"]\n",
    "closingValues = df[\"Adj Close\"]\n",
    "countTweet = df[\"count\"]\n",
    "\n",
    "dates = df[\"Date\"]\n",
    "\n",
    "# ax.plot(dates,openingValues,label=\"open\")\n",
    "ax.plot(dates,closingValues,label=\"adjusted close\")\n",
    "ax.plot(dates,countTweet,label=\"number of negative Of Tweets\")\n",
    "\n",
    "ax.legend()\n",
    "fig.savefig('figures/open_close_negative_tweets.png', bbox_inches=\"tight\")\n"
   ]
  },
  {
   "cell_type": "code",
   "execution_count": 80,
   "metadata": {},
   "outputs": [],
   "source": [
    "from copulas.bivariate import select_copula\n",
    "\n",
    "\n",
    "X = df[['count', 'Adj Close']].to_numpy()\n"
   ]
  },
  {
   "cell_type": "code",
   "execution_count": 81,
   "metadata": {},
   "outputs": [
    {
     "name": "stdout",
     "output_type": "stream",
     "text": [
      "SpearmanrResult(correlation=-0.15496883629531832, pvalue=1.095414523153904e-05)\n",
      "KendalltauResult(correlation=-0.11404637633112136, pvalue=1.4151339337685383e-05)\n",
      "(-0.13112847902993383, 0.00020362379730536623)\n"
     ]
    }
   ],
   "source": [
    "from scipy.stats import spearmanr, kendalltau, pearsonr\n",
    "\n",
    "rho = spearmanr(X[:,0],X[:,1])\n",
    "tau = kendalltau(X[:,0],X[:,1])\n",
    "r = pearsonr(X[:,0], X[:,1])\n",
    "print(rho)\n",
    "print(tau)\n",
    "print(r)"
   ]
  },
  {
   "cell_type": "code",
   "execution_count": 71,
   "metadata": {},
   "outputs": [
    {
     "data": {
      "text/html": [
       "<div>\n",
       "<style scoped>\n",
       "    .dataframe tbody tr th:only-of-type {\n",
       "        vertical-align: middle;\n",
       "    }\n",
       "\n",
       "    .dataframe tbody tr th {\n",
       "        vertical-align: top;\n",
       "    }\n",
       "\n",
       "    .dataframe thead th {\n",
       "        text-align: right;\n",
       "    }\n",
       "</style>\n",
       "<table border=\"1\" class=\"dataframe\">\n",
       "  <thead>\n",
       "    <tr style=\"text-align: right;\">\n",
       "      <th></th>\n",
       "      <th>Return</th>\n",
       "    </tr>\n",
       "    <tr>\n",
       "      <th>Date</th>\n",
       "      <th></th>\n",
       "    </tr>\n",
       "  </thead>\n",
       "  <tbody>\n",
       "    <tr>\n",
       "      <th>2015-01-06</th>\n",
       "      <td>0.000094</td>\n",
       "    </tr>\n",
       "    <tr>\n",
       "      <th>2015-01-07</th>\n",
       "      <td>0.014022</td>\n",
       "    </tr>\n",
       "    <tr>\n",
       "      <th>2015-01-08</th>\n",
       "      <td>0.038422</td>\n",
       "    </tr>\n",
       "    <tr>\n",
       "      <th>2015-01-09</th>\n",
       "      <td>0.001072</td>\n",
       "    </tr>\n",
       "    <tr>\n",
       "      <th>2015-01-14</th>\n",
       "      <td>-0.019730</td>\n",
       "    </tr>\n",
       "  </tbody>\n",
       "</table>\n",
       "</div>"
      ],
      "text/plain": [
       "              Return\n",
       "Date                \n",
       "2015-01-06  0.000094\n",
       "2015-01-07  0.014022\n",
       "2015-01-08  0.038422\n",
       "2015-01-09  0.001072\n",
       "2015-01-14 -0.019730"
      ]
     },
     "execution_count": 71,
     "metadata": {},
     "output_type": "execute_result"
    }
   ],
   "source": [
    "df.set_index('Date', inplace=True)\n",
    "apple_daily_returns = df['Adj Close'].pct_change()\n",
    "apple_daily_returns = pd.DataFrame(apple_daily_returns)\n",
    "apple_daily_returns.rename(columns = {'Adj Close': 'Return'}, inplace=True)\n",
    "apple_daily_returns.dropna(inplace=True)\n",
    "apple_daily_returns.head()"
   ]
  },
  {
   "cell_type": "code",
   "execution_count": 75,
   "metadata": {},
   "outputs": [
    {
     "data": {
      "text/html": [
       "<div>\n",
       "<style scoped>\n",
       "    .dataframe tbody tr th:only-of-type {\n",
       "        vertical-align: middle;\n",
       "    }\n",
       "\n",
       "    .dataframe tbody tr th {\n",
       "        vertical-align: top;\n",
       "    }\n",
       "\n",
       "    .dataframe thead th {\n",
       "        text-align: right;\n",
       "    }\n",
       "</style>\n",
       "<table border=\"1\" class=\"dataframe\">\n",
       "  <thead>\n",
       "    <tr style=\"text-align: right;\">\n",
       "      <th></th>\n",
       "      <th>Date</th>\n",
       "      <th>Return</th>\n",
       "      <th>count</th>\n",
       "    </tr>\n",
       "  </thead>\n",
       "  <tbody>\n",
       "    <tr>\n",
       "      <th>0</th>\n",
       "      <td>2015-01-06</td>\n",
       "      <td>0.000094</td>\n",
       "      <td>3</td>\n",
       "    </tr>\n",
       "    <tr>\n",
       "      <th>1</th>\n",
       "      <td>2015-01-07</td>\n",
       "      <td>0.014022</td>\n",
       "      <td>2</td>\n",
       "    </tr>\n",
       "    <tr>\n",
       "      <th>2</th>\n",
       "      <td>2015-01-08</td>\n",
       "      <td>0.038422</td>\n",
       "      <td>3</td>\n",
       "    </tr>\n",
       "    <tr>\n",
       "      <th>3</th>\n",
       "      <td>2015-01-09</td>\n",
       "      <td>0.001072</td>\n",
       "      <td>3</td>\n",
       "    </tr>\n",
       "    <tr>\n",
       "      <th>4</th>\n",
       "      <td>2015-01-14</td>\n",
       "      <td>-0.019730</td>\n",
       "      <td>1</td>\n",
       "    </tr>\n",
       "  </tbody>\n",
       "</table>\n",
       "</div>"
      ],
      "text/plain": [
       "         Date    Return  count\n",
       "0  2015-01-06  0.000094      3\n",
       "1  2015-01-07  0.014022      2\n",
       "2  2015-01-08  0.038422      3\n",
       "3  2015-01-09  0.001072      3\n",
       "4  2015-01-14 -0.019730      1"
      ]
     },
     "execution_count": 75,
     "metadata": {},
     "output_type": "execute_result"
    }
   ],
   "source": [
    "df2 = pd.merge(apple_daily_returns, tweetsOnAppleDateCount, how='inner', on='Date')\n",
    "df2.head()"
   ]
  },
  {
   "cell_type": "code",
   "execution_count": 77,
   "metadata": {},
   "outputs": [
    {
     "data": {
      "text/plain": [
       "<matplotlib.legend.Legend at 0x7fc519553910>"
      ]
     },
     "execution_count": 77,
     "metadata": {},
     "output_type": "execute_result"
    },
    {
     "data": {
      "image/png": "[encoded data removed]",
      "text/plain": [
       "<Figure size 720x432 with 1 Axes>"
      ]
     },
     "metadata": {
      "needs_background": "light"
     },
     "output_type": "display_data"
    }
   ],
   "source": [
    "fig, ax = plt.subplots(figsize=(10,6))\n",
    "\n",
    "\n",
    "dailyR = df2['Return']\n",
    "countTweet = df2[\"count\"]\n",
    "\n",
    "dates = df2[\"Date\"]\n",
    "\n",
    "# ax.plot(dates,openingValues,label=\"open\")\n",
    "ax.plot(dates,dailyR,label=\"daily return\")\n",
    "ax.plot(dates,countTweet,label=\"number of negative Of Tweets\")\n",
    "\n",
    "ax.legend()"
   ]
  },
  {
   "cell_type": "code",
   "execution_count": 78,
   "metadata": {},
   "outputs": [
    {
     "name": "stdout",
     "output_type": "stream",
     "text": [
      "SpearmanrResult(correlation=-0.17423467223955103, pvalue=7.45826947428269e-07)\n",
      "KendalltauResult(correlation=-0.13168827529716315, pvalue=5.429427257020622e-07)\n"
     ]
    }
   ],
   "source": [
    "X = df2[['Return','count']].to_numpy()\n",
    "\n",
    "rho = spearmanr(X[:,0],X[:,1])\n",
    "tau = kendalltau(X[:,0],X[:,1])\n",
    "print(rho)\n",
    "print(tau)"
   ]
  }
 ],
 "metadata": {
  "interpreter": {
   "hash": "a6c1bf8ab199f9c694ab5ba9de717276f59ad59406678306ea05aa3151fc7641"
  },
  "kernelspec": {
   "display_name": "Python 3.8.8 ('base')",
   "language": "python",
   "name": "python3"
  },
  "language_info": {
   "codemirror_mode": {
    "name": "ipython",
    "version": 3
   },
   "file_extension": ".py",
   "mimetype": "text/x-python",
   "name": "python",
   "nbconvert_exporter": "python",
   "pygments_lexer": "ipython3",
   "version": "3.8.8"
  },
  "orig_nbformat": 4
 },
 "nbformat": 4,
 "nbformat_minor": 2
}
